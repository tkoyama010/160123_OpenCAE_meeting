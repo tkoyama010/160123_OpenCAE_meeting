{
  "nbformat": 4,
  "nbformat_minor": 0,
  "metadata": {
    "kernelspec": {
      "display_name": "Python 3",
      "language": "python",
      "name": "python3"
    },
    "language_info": {
      "codemirror_mode": {
        "name": "ipython",
        "version": 3
      },
      "file_extension": ".py",
      "mimetype": "text/x-python",
      "name": "python",
      "nbconvert_exporter": "python",
      "pygments_lexer": "ipython3",
      "version": "3.6.4"
    },
    "colab": {
      "name": "Beat Frequencies.ipynb のコピー",
      "provenance": [],
      "include_colab_link": true
    },
    "widgets": {
      "application/vnd.jupyter.widget-state+json": {
        "608a74f5bb164ece9f0c5261553d8b84": {
          "model_module": "@jupyter-widgets/controls",
          "model_name": "VBoxModel",
          "state": {
            "_view_name": "VBoxView",
            "_dom_classes": [
              "widget-interact"
            ],
            "_model_name": "VBoxModel",
            "_view_module": "@jupyter-widgets/controls",
            "_model_module_version": "1.5.0",
            "_view_count": null,
            "_view_module_version": "1.5.0",
            "box_style": "",
            "layout": "IPY_MODEL_8041d8d2cd634a6c9d53e6a2e3798331",
            "_model_module": "@jupyter-widgets/controls",
            "children": [
              "IPY_MODEL_36a637e671324f6a8c609433b1aeae9e",
              "IPY_MODEL_36257dd3ed8242aeaa3f7e00219f33a2",
              "IPY_MODEL_c4a652f26dbe4a8bb3f72531f698d147"
            ]
          }
        },
        "8041d8d2cd634a6c9d53e6a2e3798331": {
          "model_module": "@jupyter-widgets/base",
          "model_name": "LayoutModel",
          "state": {
            "_view_name": "LayoutView",
            "grid_template_rows": null,
            "right": null,
            "justify_content": null,
            "_view_module": "@jupyter-widgets/base",
            "overflow": null,
            "_model_module_version": "1.2.0",
            "_view_count": null,
            "flex_flow": null,
            "width": null,
            "min_width": null,
            "border": null,
            "align_items": null,
            "bottom": null,
            "_model_module": "@jupyter-widgets/base",
            "top": null,
            "grid_column": null,
            "overflow_y": null,
            "overflow_x": null,
            "grid_auto_flow": null,
            "grid_area": null,
            "grid_template_columns": null,
            "flex": null,
            "_model_name": "LayoutModel",
            "justify_items": null,
            "grid_row": null,
            "max_height": null,
            "align_content": null,
            "visibility": null,
            "align_self": null,
            "height": null,
            "min_height": null,
            "padding": null,
            "grid_auto_rows": null,
            "grid_gap": null,
            "max_width": null,
            "order": null,
            "_view_module_version": "1.2.0",
            "grid_template_areas": null,
            "object_position": null,
            "object_fit": null,
            "grid_auto_columns": null,
            "margin": null,
            "display": null,
            "left": null
          }
        },
        "36a637e671324f6a8c609433b1aeae9e": {
          "model_module": "@jupyter-widgets/controls",
          "model_name": "FloatSliderModel",
          "state": {
            "_view_name": "FloatSliderView",
            "style": "IPY_MODEL_04c903cea4d24b928c1363f08d92fa60",
            "_dom_classes": [],
            "description": "f1",
            "step": 0.1,
            "_model_name": "FloatSliderModel",
            "orientation": "horizontal",
            "max": 300,
            "_view_module": "@jupyter-widgets/controls",
            "_model_module_version": "1.5.0",
            "value": 222.2,
            "_view_count": null,
            "disabled": false,
            "_view_module_version": "1.5.0",
            "min": 200,
            "continuous_update": true,
            "readout_format": ".2f",
            "description_tooltip": null,
            "readout": true,
            "_model_module": "@jupyter-widgets/controls",
            "layout": "IPY_MODEL_e7af30a1118f4fafabdaffcd436d9fc3"
          }
        },
        "36257dd3ed8242aeaa3f7e00219f33a2": {
          "model_module": "@jupyter-widgets/controls",
          "model_name": "FloatSliderModel",
          "state": {
            "_view_name": "FloatSliderView",
            "style": "IPY_MODEL_e79bb156b3174cc3a86bf192286d34e4",
            "_dom_classes": [],
            "description": "f2",
            "step": 0.1,
            "_model_name": "FloatSliderModel",
            "orientation": "horizontal",
            "max": 300,
            "_view_module": "@jupyter-widgets/controls",
            "_model_module_version": "1.5.0",
            "value": 260,
            "_view_count": null,
            "disabled": false,
            "_view_module_version": "1.5.0",
            "min": 200,
            "continuous_update": true,
            "readout_format": ".2f",
            "description_tooltip": null,
            "readout": true,
            "_model_module": "@jupyter-widgets/controls",
            "layout": "IPY_MODEL_f0b84f989d6c461daffa00db3d8f429c"
          }
        },
        "c4a652f26dbe4a8bb3f72531f698d147": {
          "model_module": "@jupyter-widgets/output",
          "model_name": "OutputModel",
          "state": {
            "_view_name": "OutputView",
            "msg_id": "",
            "_dom_classes": [],
            "_model_name": "OutputModel",
            "outputs": [
              {
                "output_type": "display_data",
                "metadata": {
                  "tags": []
                },
                "text/html": "\n                <audio controls=\"controls\" >\n                    <source src=\"data:audio/wav;base64,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\" type=\"audio/wav\" />\n                    Your browser does not support the audio element.\n                </audio>\n              ",
                "text/plain": "<IPython.lib.display.Audio object>"
              }
            ],
            "_view_module": "@jupyter-widgets/output",
            "_model_module_version": "1.0.0",
            "_view_count": null,
            "_view_module_version": "1.0.0",
            "layout": "IPY_MODEL_192f710c5fe84b05b771568af27af7f3",
            "_model_module": "@jupyter-widgets/output"
          }
        },
        "04c903cea4d24b928c1363f08d92fa60": {
          "model_module": "@jupyter-widgets/controls",
          "model_name": "SliderStyleModel",
          "state": {
            "_view_name": "StyleView",
            "handle_color": null,
            "_model_name": "SliderStyleModel",
            "description_width": "",
            "_view_module": "@jupyter-widgets/base",
            "_model_module_version": "1.5.0",
            "_view_count": null,
            "_view_module_version": "1.2.0",
            "_model_module": "@jupyter-widgets/controls"
          }
        },
        "e7af30a1118f4fafabdaffcd436d9fc3": {
          "model_module": "@jupyter-widgets/base",
          "model_name": "LayoutModel",
          "state": {
            "_view_name": "LayoutView",
            "grid_template_rows": null,
            "right": null,
            "justify_content": null,
            "_view_module": "@jupyter-widgets/base",
            "overflow": null,
            "_model_module_version": "1.2.0",
            "_view_count": null,
            "flex_flow": null,
            "width": null,
            "min_width": null,
            "border": null,
            "align_items": null,
            "bottom": null,
            "_model_module": "@jupyter-widgets/base",
            "top": null,
            "grid_column": null,
            "overflow_y": null,
            "overflow_x": null,
            "grid_auto_flow": null,
            "grid_area": null,
            "grid_template_columns": null,
            "flex": null,
            "_model_name": "LayoutModel",
            "justify_items": null,
            "grid_row": null,
            "max_height": null,
            "align_content": null,
            "visibility": null,
            "align_self": null,
            "height": null,
            "min_height": null,
            "padding": null,
            "grid_auto_rows": null,
            "grid_gap": null,
            "max_width": null,
            "order": null,
            "_view_module_version": "1.2.0",
            "grid_template_areas": null,
            "object_position": null,
            "object_fit": null,
            "grid_auto_columns": null,
            "margin": null,
            "display": null,
            "left": null
          }
        },
        "e79bb156b3174cc3a86bf192286d34e4": {
          "model_module": "@jupyter-widgets/controls",
          "model_name": "SliderStyleModel",
          "state": {
            "_view_name": "StyleView",
            "handle_color": null,
            "_model_name": "SliderStyleModel",
            "description_width": "",
            "_view_module": "@jupyter-widgets/base",
            "_model_module_version": "1.5.0",
            "_view_count": null,
            "_view_module_version": "1.2.0",
            "_model_module": "@jupyter-widgets/controls"
          }
        },
        "f0b84f989d6c461daffa00db3d8f429c": {
          "model_module": "@jupyter-widgets/base",
          "model_name": "LayoutModel",
          "state": {
            "_view_name": "LayoutView",
            "grid_template_rows": null,
            "right": null,
            "justify_content": null,
            "_view_module": "@jupyter-widgets/base",
            "overflow": null,
            "_model_module_version": "1.2.0",
            "_view_count": null,
            "flex_flow": null,
            "width": null,
            "min_width": null,
            "border": null,
            "align_items": null,
            "bottom": null,
            "_model_module": "@jupyter-widgets/base",
            "top": null,
            "grid_column": null,
            "overflow_y": null,
            "overflow_x": null,
            "grid_auto_flow": null,
            "grid_area": null,
            "grid_template_columns": null,
            "flex": null,
            "_model_name": "LayoutModel",
            "justify_items": null,
            "grid_row": null,
            "max_height": null,
            "align_content": null,
            "visibility": null,
            "align_self": null,
            "height": null,
            "min_height": null,
            "padding": null,
            "grid_auto_rows": null,
            "grid_gap": null,
            "max_width": null,
            "order": null,
            "_view_module_version": "1.2.0",
            "grid_template_areas": null,
            "object_position": null,
            "object_fit": null,
            "grid_auto_columns": null,
            "margin": null,
            "display": null,
            "left": null
          }
        }
      }
    }
  },
  "cells": [
    {
      "cell_type": "markdown",
      "metadata": {
        "id": "view-in-github",
        "colab_type": "text"
      },
      "source": [
        "<a href=\"https://colab.research.google.com/github/tkoyama010/160123_OpenCAE_meeting/blob/master/Beat_Frequencies_ipynb.ipynb\" target=\"_parent\"><img src=\"https://colab.research.google.com/assets/colab-badge.svg\" alt=\"Open In Colab\"/></a>"
      ]
    },
    {
      "cell_type": "markdown",
      "metadata": {
        "id": "7YySFNzcm0Py",
        "colab_type": "text"
      },
      "source": [
        "# Exploring Beat Frequencies using the `Audio` Object"
      ]
    },
    {
      "cell_type": "markdown",
      "metadata": {
        "id": "mRRs9ts0m0P0",
        "colab_type": "text"
      },
      "source": [
        "This example uses the `Audio` object and Matplotlib to explore the phenomenon of beat frequencies."
      ]
    },
    {
      "cell_type": "code",
      "metadata": {
        "id": "C2qBw1wxm0P3",
        "colab_type": "code",
        "colab": {}
      },
      "source": [
        "%matplotlib inline\n",
        "import matplotlib.pyplot as plt\n",
        "import numpy as np"
      ],
      "execution_count": 0,
      "outputs": []
    },
    {
      "cell_type": "code",
      "metadata": {
        "id": "988Wn_dtm0P8",
        "colab_type": "code",
        "colab": {}
      },
      "source": [
        "from ipywidgets import interactive\n",
        "from IPython.display import Audio, display\n",
        "import numpy as np"
      ],
      "execution_count": 0,
      "outputs": []
    },
    {
      "cell_type": "code",
      "metadata": {
        "id": "Kw055wG5m0QA",
        "colab_type": "code",
        "colab": {}
      },
      "source": [
        "def beat_freq(f1=220.0, f2=224.0):\n",
        "    max_time = 3\n",
        "    rate = 8000\n",
        "    times = np.linspace(0,max_time,rate*max_time)\n",
        "    signal = np.sin(2*np.pi*f1*times) + np.sin(2*np.pi*f2*times)\n",
        "    display(Audio(data=signal, rate=rate))\n",
        "    return signal"
      ],
      "execution_count": 0,
      "outputs": []
    },
    {
      "cell_type": "code",
      "metadata": {
        "id": "MmrK1h1Gm0QD",
        "colab_type": "code",
        "outputId": "4d82f45d-c35a-4e29-a10f-753beda37b1b",
        "colab": {
          "base_uri": "https://localhost:8080/",
          "height": 139,
          "referenced_widgets": [
            "608a74f5bb164ece9f0c5261553d8b84",
            "8041d8d2cd634a6c9d53e6a2e3798331",
            "36a637e671324f6a8c609433b1aeae9e",
            "36257dd3ed8242aeaa3f7e00219f33a2",
            "c4a652f26dbe4a8bb3f72531f698d147",
            "04c903cea4d24b928c1363f08d92fa60",
            "e7af30a1118f4fafabdaffcd436d9fc3",
            "e79bb156b3174cc3a86bf192286d34e4",
            "f0b84f989d6c461daffa00db3d8f429c"
          ]
        }
      },
      "source": [
        "v = interactive(beat_freq, f1=(200.0,300.0), f2=(200.0,300.0))\n",
        "display(v)"
      ],
      "execution_count": 0,
      "outputs": [
        {
          "output_type": "display_data",
          "data": {
            "application/vnd.jupyter.widget-view+json": {
              "model_id": "608a74f5bb164ece9f0c5261553d8b84",
              "version_minor": 0,
              "version_major": 2
            },
            "text/plain": [
              "interactive(children=(FloatSlider(value=220.0, description='f1', max=300.0, min=200.0), FloatSlider(value=224.…"
            ]
          },
          "metadata": {
            "tags": []
          }
        }
      ]
    },
    {
      "cell_type": "code",
      "metadata": {
        "id": "1DwvM44tm0QG",
        "colab_type": "code",
        "outputId": "0f2f6877-9034-4c7f-b0c8-b0bbc85cab58",
        "colab": {
          "base_uri": "https://localhost:8080/",
          "height": 34
        }
      },
      "source": [
        "v.kwargs"
      ],
      "execution_count": 0,
      "outputs": [
        {
          "output_type": "execute_result",
          "data": {
            "text/plain": [
              "{'f1': 220.0, 'f2': 224.0}"
            ]
          },
          "metadata": {
            "tags": []
          },
          "execution_count": 5
        }
      ]
    },
    {
      "cell_type": "code",
      "metadata": {
        "id": "pQoPRzr0m0QI",
        "colab_type": "code",
        "outputId": "6bc05907-b1cb-4845-ee23-e73a8a58647b",
        "colab": {
          "base_uri": "https://localhost:8080/",
          "height": 265
        }
      },
      "source": [
        "f1, f2 = v.children[:2]\n",
        "f1.value = 255\n",
        "f2.value = 260\n",
        "plt.plot(v.result[0:6000]);"
      ],
      "execution_count": 0,
      "outputs": [
        {
          "output_type": "display_data",
          "data": {
            "image/png": "[encoded data removed]",
            "text/plain": [
              "<Figure size 432x288 with 1 Axes>"
            ]
          },
          "metadata": {
            "tags": []
          }
        }
      ]
    },
    {
      "cell_type": "code",
      "metadata": {
        "id": "S0iiWHi7m0QL",
        "colab_type": "code",
        "colab": {}
      },
      "source": [
        ""
      ],
      "execution_count": 0,
      "outputs": []
    }
  ]
}